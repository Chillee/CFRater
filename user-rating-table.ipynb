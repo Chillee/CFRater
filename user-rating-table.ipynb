{
 "cells": [
  {
   "cell_type": "markdown",
   "metadata": {},
   "source": [
    "First run `wget http://codeforces.com/api/user.ratedList`."
   ]
  },
  {
   "cell_type": "code",
   "execution_count": 11,
   "metadata": {},
   "outputs": [],
   "source": [
    "import json\n",
    "\n",
    "import numpy as np\n",
    "import pandas as pd"
   ]
  },
  {
   "cell_type": "code",
   "execution_count": 12,
   "metadata": {},
   "outputs": [],
   "source": [
    "with open('data/user.ratedList') as f:\n",
    "    rated_list_json = json.load(f)"
   ]
  },
  {
   "cell_type": "code",
   "execution_count": 18,
   "metadata": {},
   "outputs": [],
   "source": [
    "df = pd.DataFrame(rated_list_json['result'])"
   ]
  },
  {
   "cell_type": "code",
   "execution_count": 19,
   "metadata": {},
   "outputs": [
    {
     "data": {
      "text/html": [
       "<div>\n",
       "<style scoped>\n",
       "    .dataframe tbody tr th:only-of-type {\n",
       "        vertical-align: middle;\n",
       "    }\n",
       "\n",
       "    .dataframe tbody tr th {\n",
       "        vertical-align: top;\n",
       "    }\n",
       "\n",
       "    .dataframe thead th {\n",
       "        text-align: right;\n",
       "    }\n",
       "</style>\n",
       "<table border=\"1\" class=\"dataframe\">\n",
       "  <thead>\n",
       "    <tr style=\"text-align: right;\">\n",
       "      <th></th>\n",
       "      <th>avatar</th>\n",
       "      <th>city</th>\n",
       "      <th>contribution</th>\n",
       "      <th>country</th>\n",
       "      <th>email</th>\n",
       "      <th>firstName</th>\n",
       "      <th>friendOfCount</th>\n",
       "      <th>handle</th>\n",
       "      <th>lastName</th>\n",
       "      <th>lastOnlineTimeSeconds</th>\n",
       "      <th>maxRank</th>\n",
       "      <th>maxRating</th>\n",
       "      <th>openId</th>\n",
       "      <th>organization</th>\n",
       "      <th>rank</th>\n",
       "      <th>rating</th>\n",
       "      <th>registrationTimeSeconds</th>\n",
       "      <th>titlePhoto</th>\n",
       "      <th>vkId</th>\n",
       "    </tr>\n",
       "  </thead>\n",
       "  <tbody>\n",
       "    <tr>\n",
       "      <th>0</th>\n",
       "      <td>//userpic.codeforces.com/422/avatar/1d4e692d66...</td>\n",
       "      <td>Gomel</td>\n",
       "      <td>159</td>\n",
       "      <td>Belarus</td>\n",
       "      <td>NaN</td>\n",
       "      <td>Gennady</td>\n",
       "      <td>13885</td>\n",
       "      <td>tourist</td>\n",
       "      <td>Korotkevich</td>\n",
       "      <td>1533410546</td>\n",
       "      <td>legendary grandmaster</td>\n",
       "      <td>3739</td>\n",
       "      <td>NaN</td>\n",
       "      <td>ITMO University</td>\n",
       "      <td>legendary grandmaster</td>\n",
       "      <td>3434</td>\n",
       "      <td>1265987288</td>\n",
       "      <td>//userpic.codeforces.com/422/title/6dd5ba0df6a...</td>\n",
       "      <td>NaN</td>\n",
       "    </tr>\n",
       "    <tr>\n",
       "      <th>1</th>\n",
       "      <td>//userpic.codeforces.com/19965/avatar/ef91137d...</td>\n",
       "      <td>NaN</td>\n",
       "      <td>110</td>\n",
       "      <td>China</td>\n",
       "      <td>NaN</td>\n",
       "      <td>Yuhao</td>\n",
       "      <td>4078</td>\n",
       "      <td>OO0OOO00O0OOO0O00OOO0OO</td>\n",
       "      <td>Du</td>\n",
       "      <td>1533410701</td>\n",
       "      <td>legendary grandmaster</td>\n",
       "      <td>3441</td>\n",
       "      <td>NaN</td>\n",
       "      <td>NaN</td>\n",
       "      <td>legendary grandmaster</td>\n",
       "      <td>3280</td>\n",
       "      <td>1306208507</td>\n",
       "      <td>//userpic.codeforces.com/19965/title/760cc17da...</td>\n",
       "      <td>NaN</td>\n",
       "    </tr>\n",
       "  </tbody>\n",
       "</table>\n",
       "</div>"
      ],
      "text/plain": [
       "                                              avatar   city  contribution  \\\n",
       "0  //userpic.codeforces.com/422/avatar/1d4e692d66...  Gomel           159   \n",
       "1  //userpic.codeforces.com/19965/avatar/ef91137d...    NaN           110   \n",
       "\n",
       "   country email firstName  friendOfCount                   handle  \\\n",
       "0  Belarus   NaN   Gennady          13885                  tourist   \n",
       "1    China   NaN     Yuhao           4078  OO0OOO00O0OOO0O00OOO0OO   \n",
       "\n",
       "      lastName  lastOnlineTimeSeconds                maxRank  maxRating  \\\n",
       "0  Korotkevich             1533410546  legendary grandmaster       3739   \n",
       "1           Du             1533410701  legendary grandmaster       3441   \n",
       "\n",
       "  openId     organization                   rank  rating  \\\n",
       "0    NaN  ITMO University  legendary grandmaster    3434   \n",
       "1    NaN              NaN  legendary grandmaster    3280   \n",
       "\n",
       "   registrationTimeSeconds                                         titlePhoto  \\\n",
       "0               1265987288  //userpic.codeforces.com/422/title/6dd5ba0df6a...   \n",
       "1               1306208507  //userpic.codeforces.com/19965/title/760cc17da...   \n",
       "\n",
       "  vkId  \n",
       "0  NaN  \n",
       "1  NaN  "
      ]
     },
     "execution_count": 19,
     "metadata": {},
     "output_type": "execute_result"
    }
   ],
   "source": [
    "df[0:2]"
   ]
  },
  {
   "cell_type": "code",
   "execution_count": null,
   "metadata": {},
   "outputs": [],
   "source": []
  }
 ],
 "metadata": {
  "kernelspec": {
   "display_name": "Python 3",
   "language": "python",
   "name": "python3"
  },
  "language_info": {
   "codemirror_mode": {
    "name": "ipython",
    "version": 3
   },
   "file_extension": ".py",
   "mimetype": "text/x-python",
   "name": "python",
   "nbconvert_exporter": "python",
   "pygments_lexer": "ipython3",
   "version": "3.7.0"
  }
 },
 "nbformat": 4,
 "nbformat_minor": 2
}
